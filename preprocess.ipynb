{
 "cells": [
  {
   "cell_type": "code",
   "execution_count": 1,
   "metadata": {},
   "outputs": [],
   "source": [
    "import pandas as pd\n",
    "import numpy as np"
   ]
  },
  {
   "cell_type": "code",
   "execution_count": 2,
   "metadata": {},
   "outputs": [
    {
     "data": {
      "text/html": [
       "<div>\n",
       "<style scoped>\n",
       "    .dataframe tbody tr th:only-of-type {\n",
       "        vertical-align: middle;\n",
       "    }\n",
       "\n",
       "    .dataframe tbody tr th {\n",
       "        vertical-align: top;\n",
       "    }\n",
       "\n",
       "    .dataframe thead th {\n",
       "        text-align: right;\n",
       "    }\n",
       "</style>\n",
       "<table border=\"1\" class=\"dataframe\">\n",
       "  <thead>\n",
       "    <tr style=\"text-align: right;\">\n",
       "      <th></th>\n",
       "      <th>MONATSZAHL</th>\n",
       "      <th>AUSPRAEGUNG</th>\n",
       "      <th>JAHR</th>\n",
       "      <th>MONAT</th>\n",
       "      <th>WERT</th>\n",
       "      <th>VORJAHRESWERT</th>\n",
       "      <th>VERAEND_VORMONAT_PROZENT</th>\n",
       "      <th>VERAEND_VORJAHRESMONAT_PROZENT</th>\n",
       "      <th>ZWOELF_MONATE_MITTELWERT</th>\n",
       "    </tr>\n",
       "  </thead>\n",
       "  <tbody>\n",
       "    <tr>\n",
       "      <th>0</th>\n",
       "      <td>Alkoholunfälle</td>\n",
       "      <td>insgesamt</td>\n",
       "      <td>2024</td>\n",
       "      <td>202401</td>\n",
       "      <td>NaN</td>\n",
       "      <td>NaN</td>\n",
       "      <td>NaN</td>\n",
       "      <td>NaN</td>\n",
       "      <td>NaN</td>\n",
       "    </tr>\n",
       "    <tr>\n",
       "      <th>1</th>\n",
       "      <td>Alkoholunfälle</td>\n",
       "      <td>insgesamt</td>\n",
       "      <td>2024</td>\n",
       "      <td>202402</td>\n",
       "      <td>NaN</td>\n",
       "      <td>NaN</td>\n",
       "      <td>NaN</td>\n",
       "      <td>NaN</td>\n",
       "      <td>NaN</td>\n",
       "    </tr>\n",
       "    <tr>\n",
       "      <th>2</th>\n",
       "      <td>Alkoholunfälle</td>\n",
       "      <td>insgesamt</td>\n",
       "      <td>2024</td>\n",
       "      <td>202403</td>\n",
       "      <td>NaN</td>\n",
       "      <td>NaN</td>\n",
       "      <td>NaN</td>\n",
       "      <td>NaN</td>\n",
       "      <td>NaN</td>\n",
       "    </tr>\n",
       "    <tr>\n",
       "      <th>3</th>\n",
       "      <td>Alkoholunfälle</td>\n",
       "      <td>insgesamt</td>\n",
       "      <td>2024</td>\n",
       "      <td>202404</td>\n",
       "      <td>NaN</td>\n",
       "      <td>NaN</td>\n",
       "      <td>NaN</td>\n",
       "      <td>NaN</td>\n",
       "      <td>NaN</td>\n",
       "    </tr>\n",
       "    <tr>\n",
       "      <th>4</th>\n",
       "      <td>Alkoholunfälle</td>\n",
       "      <td>insgesamt</td>\n",
       "      <td>2024</td>\n",
       "      <td>202405</td>\n",
       "      <td>NaN</td>\n",
       "      <td>NaN</td>\n",
       "      <td>NaN</td>\n",
       "      <td>NaN</td>\n",
       "      <td>NaN</td>\n",
       "    </tr>\n",
       "  </tbody>\n",
       "</table>\n",
       "</div>"
      ],
      "text/plain": [
       "       MONATSZAHL AUSPRAEGUNG  JAHR   MONAT  WERT  VORJAHRESWERT  \\\n",
       "0  Alkoholunfälle   insgesamt  2024  202401   NaN            NaN   \n",
       "1  Alkoholunfälle   insgesamt  2024  202402   NaN            NaN   \n",
       "2  Alkoholunfälle   insgesamt  2024  202403   NaN            NaN   \n",
       "3  Alkoholunfälle   insgesamt  2024  202404   NaN            NaN   \n",
       "4  Alkoholunfälle   insgesamt  2024  202405   NaN            NaN   \n",
       "\n",
       "   VERAEND_VORMONAT_PROZENT  VERAEND_VORJAHRESMONAT_PROZENT  \\\n",
       "0                       NaN                             NaN   \n",
       "1                       NaN                             NaN   \n",
       "2                       NaN                             NaN   \n",
       "3                       NaN                             NaN   \n",
       "4                       NaN                             NaN   \n",
       "\n",
       "   ZWOELF_MONATE_MITTELWERT  \n",
       "0                       NaN  \n",
       "1                       NaN  \n",
       "2                       NaN  \n",
       "3                       NaN  \n",
       "4                       NaN  "
      ]
     },
     "execution_count": 2,
     "metadata": {},
     "output_type": "execute_result"
    }
   ],
   "source": [
    "# Load the dataset\n",
    "file_path = \"dataset.csv\"\n",
    "data = pd.read_csv(file_path)\n",
    "\n",
    "# Display the first few rows\n",
    "data.head()"
   ]
  },
  {
   "cell_type": "code",
   "execution_count": 3,
   "metadata": {},
   "outputs": [
    {
     "name": "stdout",
     "output_type": "stream",
     "text": [
      "<class 'pandas.core.frame.DataFrame'>\n",
      "RangeIndex: 2254 entries, 0 to 2253\n",
      "Data columns (total 9 columns):\n",
      " #   Column                          Non-Null Count  Dtype  \n",
      "---  ------                          --------------  -----  \n",
      " 0   MONATSZAHL                      2254 non-null   object \n",
      " 1   AUSPRAEGUNG                     2254 non-null   object \n",
      " 2   JAHR                            2254 non-null   int64  \n",
      " 3   MONAT                           2254 non-null   object \n",
      " 4   WERT                            2086 non-null   float64\n",
      " 5   VORJAHRESWERT                   2086 non-null   float64\n",
      " 6   VERAEND_VORMONAT_PROZENT        1924 non-null   float64\n",
      " 7   VERAEND_VORJAHRESMONAT_PROZENT  2001 non-null   float64\n",
      " 8   ZWOELF_MONATE_MITTELWERT        1932 non-null   float64\n",
      "dtypes: float64(5), int64(1), object(3)\n",
      "memory usage: 158.6+ KB\n",
      "None\n"
     ]
    }
   ],
   "source": [
    "# Check column names and types\n",
    "print(data.info())"
   ]
  },
  {
   "cell_type": "code",
   "execution_count": 4,
   "metadata": {},
   "outputs": [
    {
     "data": {
      "text/html": [
       "<div>\n",
       "<style scoped>\n",
       "    .dataframe tbody tr th:only-of-type {\n",
       "        vertical-align: middle;\n",
       "    }\n",
       "\n",
       "    .dataframe tbody tr th {\n",
       "        vertical-align: top;\n",
       "    }\n",
       "\n",
       "    .dataframe thead th {\n",
       "        text-align: right;\n",
       "    }\n",
       "</style>\n",
       "<table border=\"1\" class=\"dataframe\">\n",
       "  <thead>\n",
       "    <tr style=\"text-align: right;\">\n",
       "      <th></th>\n",
       "      <th>MONATSZAHL</th>\n",
       "      <th>AUSPRAEGUNG</th>\n",
       "      <th>JAHR</th>\n",
       "      <th>MONAT</th>\n",
       "      <th>WERT</th>\n",
       "    </tr>\n",
       "  </thead>\n",
       "  <tbody>\n",
       "    <tr>\n",
       "      <th>0</th>\n",
       "      <td>Alkoholunfälle</td>\n",
       "      <td>insgesamt</td>\n",
       "      <td>2024</td>\n",
       "      <td>202401</td>\n",
       "      <td>NaN</td>\n",
       "    </tr>\n",
       "    <tr>\n",
       "      <th>1</th>\n",
       "      <td>Alkoholunfälle</td>\n",
       "      <td>insgesamt</td>\n",
       "      <td>2024</td>\n",
       "      <td>202402</td>\n",
       "      <td>NaN</td>\n",
       "    </tr>\n",
       "    <tr>\n",
       "      <th>2</th>\n",
       "      <td>Alkoholunfälle</td>\n",
       "      <td>insgesamt</td>\n",
       "      <td>2024</td>\n",
       "      <td>202403</td>\n",
       "      <td>NaN</td>\n",
       "    </tr>\n",
       "    <tr>\n",
       "      <th>3</th>\n",
       "      <td>Alkoholunfälle</td>\n",
       "      <td>insgesamt</td>\n",
       "      <td>2024</td>\n",
       "      <td>202404</td>\n",
       "      <td>NaN</td>\n",
       "    </tr>\n",
       "    <tr>\n",
       "      <th>4</th>\n",
       "      <td>Alkoholunfälle</td>\n",
       "      <td>insgesamt</td>\n",
       "      <td>2024</td>\n",
       "      <td>202405</td>\n",
       "      <td>NaN</td>\n",
       "    </tr>\n",
       "  </tbody>\n",
       "</table>\n",
       "</div>"
      ],
      "text/plain": [
       "       MONATSZAHL AUSPRAEGUNG  JAHR   MONAT  WERT\n",
       "0  Alkoholunfälle   insgesamt  2024  202401   NaN\n",
       "1  Alkoholunfälle   insgesamt  2024  202402   NaN\n",
       "2  Alkoholunfälle   insgesamt  2024  202403   NaN\n",
       "3  Alkoholunfälle   insgesamt  2024  202404   NaN\n",
       "4  Alkoholunfälle   insgesamt  2024  202405   NaN"
      ]
     },
     "execution_count": 4,
     "metadata": {},
     "output_type": "execute_result"
    }
   ],
   "source": [
    "# Keep only the first 5 columns\n",
    "data_filtered = data.drop(data.columns[5:], axis=1)\n",
    "\n",
    "# Display the remaining columns to verify\n",
    "data_filtered.head()\n"
   ]
  },
  {
   "cell_type": "code",
   "execution_count": 5,
   "metadata": {},
   "outputs": [
    {
     "name": "stdout",
     "output_type": "stream",
     "text": [
      "<class 'pandas.core.frame.DataFrame'>\n",
      "RangeIndex: 2254 entries, 0 to 2253\n",
      "Data columns (total 5 columns):\n",
      " #   Column       Non-Null Count  Dtype  \n",
      "---  ------       --------------  -----  \n",
      " 0   MONATSZAHL   2254 non-null   object \n",
      " 1   AUSPRAEGUNG  2254 non-null   object \n",
      " 2   JAHR         2254 non-null   int64  \n",
      " 3   MONAT        2254 non-null   object \n",
      " 4   WERT         2086 non-null   float64\n",
      "dtypes: float64(1), int64(1), object(3)\n",
      "memory usage: 88.2+ KB\n",
      "None\n"
     ]
    }
   ],
   "source": [
    "# Check column names and types\n",
    "print(data_filtered.info())"
   ]
  },
  {
   "cell_type": "code",
   "execution_count": 6,
   "metadata": {},
   "outputs": [
    {
     "name": "stdout",
     "output_type": "stream",
     "text": [
      "MONATSZAHL       0\n",
      "AUSPRAEGUNG      0\n",
      "JAHR             0\n",
      "MONAT            0\n",
      "WERT           168\n",
      "dtype: int64\n"
     ]
    }
   ],
   "source": [
    "# Check for missing values\n",
    "print(data_filtered.isnull().sum())"
   ]
  },
  {
   "cell_type": "code",
   "execution_count": 7,
   "metadata": {},
   "outputs": [
    {
     "data": {
      "text/html": [
       "<div>\n",
       "<style scoped>\n",
       "    .dataframe tbody tr th:only-of-type {\n",
       "        vertical-align: middle;\n",
       "    }\n",
       "\n",
       "    .dataframe tbody tr th {\n",
       "        vertical-align: top;\n",
       "    }\n",
       "\n",
       "    .dataframe thead th {\n",
       "        text-align: right;\n",
       "    }\n",
       "</style>\n",
       "<table border=\"1\" class=\"dataframe\">\n",
       "  <thead>\n",
       "    <tr style=\"text-align: right;\">\n",
       "      <th></th>\n",
       "      <th>MONATSZAHL</th>\n",
       "      <th>AUSPRAEGUNG</th>\n",
       "      <th>JAHR</th>\n",
       "      <th>MONAT</th>\n",
       "      <th>WERT</th>\n",
       "    </tr>\n",
       "  </thead>\n",
       "  <tbody>\n",
       "    <tr>\n",
       "      <th>0</th>\n",
       "      <td>Alkoholunfälle</td>\n",
       "      <td>insgesamt</td>\n",
       "      <td>2024</td>\n",
       "      <td>202401</td>\n",
       "      <td>NaN</td>\n",
       "    </tr>\n",
       "    <tr>\n",
       "      <th>1</th>\n",
       "      <td>Alkoholunfälle</td>\n",
       "      <td>insgesamt</td>\n",
       "      <td>2024</td>\n",
       "      <td>202402</td>\n",
       "      <td>NaN</td>\n",
       "    </tr>\n",
       "    <tr>\n",
       "      <th>2</th>\n",
       "      <td>Alkoholunfälle</td>\n",
       "      <td>insgesamt</td>\n",
       "      <td>2024</td>\n",
       "      <td>202403</td>\n",
       "      <td>NaN</td>\n",
       "    </tr>\n",
       "    <tr>\n",
       "      <th>3</th>\n",
       "      <td>Alkoholunfälle</td>\n",
       "      <td>insgesamt</td>\n",
       "      <td>2024</td>\n",
       "      <td>202404</td>\n",
       "      <td>NaN</td>\n",
       "    </tr>\n",
       "    <tr>\n",
       "      <th>4</th>\n",
       "      <td>Alkoholunfälle</td>\n",
       "      <td>insgesamt</td>\n",
       "      <td>2024</td>\n",
       "      <td>202405</td>\n",
       "      <td>NaN</td>\n",
       "    </tr>\n",
       "  </tbody>\n",
       "</table>\n",
       "</div>"
      ],
      "text/plain": [
       "       MONATSZAHL AUSPRAEGUNG  JAHR   MONAT  WERT\n",
       "0  Alkoholunfälle   insgesamt  2024  202401   NaN\n",
       "1  Alkoholunfälle   insgesamt  2024  202402   NaN\n",
       "2  Alkoholunfälle   insgesamt  2024  202403   NaN\n",
       "3  Alkoholunfälle   insgesamt  2024  202404   NaN\n",
       "4  Alkoholunfälle   insgesamt  2024  202405   NaN"
      ]
     },
     "execution_count": 7,
     "metadata": {},
     "output_type": "execute_result"
    }
   ],
   "source": [
    "data_filtered.head()"
   ]
  },
  {
   "cell_type": "code",
   "execution_count": 8,
   "metadata": {},
   "outputs": [
    {
     "name": "stdout",
     "output_type": "stream",
     "text": [
      "           MONATSZAHL             AUSPRAEGUNG  JAHR   MONAT  WERT\n",
      "0      Alkoholunfälle               insgesamt  2024  202401   NaN\n",
      "1      Alkoholunfälle               insgesamt  2024  202402   NaN\n",
      "2      Alkoholunfälle               insgesamt  2024  202403   NaN\n",
      "3      Alkoholunfälle               insgesamt  2024  202404   NaN\n",
      "4      Alkoholunfälle               insgesamt  2024  202405   NaN\n",
      "...               ...                     ...   ...     ...   ...\n",
      "1951  Verkehrsunfälle  Verletzte und Getötete  2023  202308   NaN\n",
      "1952  Verkehrsunfälle  Verletzte und Getötete  2023  202309   NaN\n",
      "1953  Verkehrsunfälle  Verletzte und Getötete  2023  202310   NaN\n",
      "1954  Verkehrsunfälle  Verletzte und Getötete  2023  202311   NaN\n",
      "1955  Verkehrsunfälle  Verletzte und Getötete  2023  202312   NaN\n",
      "\n",
      "[168 rows x 5 columns]\n"
     ]
    }
   ],
   "source": [
    "print(data_filtered[data_filtered['WERT'].isnull()])\n"
   ]
  },
  {
   "cell_type": "code",
   "execution_count": 9,
   "metadata": {},
   "outputs": [
    {
     "name": "stdout",
     "output_type": "stream",
     "text": [
      "[2020 2019 2018 2017 2016 2015 2014 2013 2012 2011 2010 2009 2008 2007\n",
      " 2006 2005 2004 2003 2002 2001 2000]\n"
     ]
    }
   ],
   "source": [
    "# Ensure column names match the dataset\n",
    "# If column names have unexpected spaces or characters, clean them\n",
    "data_filtered.columns = data_filtered.columns.str.strip()\n",
    "\n",
    "# Drop rows with Year > 2020\n",
    "data_filtered = data_filtered[data_filtered['JAHR'] <= 2020]\n",
    "\n",
    "# Verify the filtering\n",
    "print(data_filtered['JAHR'].unique())\n"
   ]
  },
  {
   "cell_type": "code",
   "execution_count": 10,
   "metadata": {},
   "outputs": [
    {
     "name": "stdout",
     "output_type": "stream",
     "text": [
      "<class 'pandas.core.frame.DataFrame'>\n",
      "Index: 1904 entries, 50 to 2253\n",
      "Data columns (total 5 columns):\n",
      " #   Column       Non-Null Count  Dtype  \n",
      "---  ------       --------------  -----  \n",
      " 0   MONATSZAHL   1904 non-null   object \n",
      " 1   AUSPRAEGUNG  1904 non-null   object \n",
      " 2   JAHR         1904 non-null   int64  \n",
      " 3   MONAT        1904 non-null   object \n",
      " 4   WERT         1904 non-null   float64\n",
      "dtypes: float64(1), int64(1), object(3)\n",
      "memory usage: 89.2+ KB\n"
     ]
    }
   ],
   "source": [
    "data_filtered.info()"
   ]
  },
  {
   "cell_type": "code",
   "execution_count": 11,
   "metadata": {},
   "outputs": [
    {
     "data": {
      "text/plain": [
       "array(['Alkoholunfälle', 'Fluchtunfälle', 'Verkehrsunfälle'], dtype=object)"
      ]
     },
     "execution_count": 11,
     "metadata": {},
     "output_type": "execute_result"
    }
   ],
   "source": [
    "data_filtered['MONATSZAHL'].unique()"
   ]
  },
  {
   "cell_type": "code",
   "execution_count": 12,
   "metadata": {},
   "outputs": [
    {
     "data": {
      "text/html": [
       "<div>\n",
       "<style scoped>\n",
       "    .dataframe tbody tr th:only-of-type {\n",
       "        vertical-align: middle;\n",
       "    }\n",
       "\n",
       "    .dataframe tbody tr th {\n",
       "        vertical-align: top;\n",
       "    }\n",
       "\n",
       "    .dataframe thead th {\n",
       "        text-align: right;\n",
       "    }\n",
       "</style>\n",
       "<table border=\"1\" class=\"dataframe\">\n",
       "  <thead>\n",
       "    <tr style=\"text-align: right;\">\n",
       "      <th></th>\n",
       "      <th>MONATSZAHL</th>\n",
       "      <th>AUSPRAEGUNG</th>\n",
       "      <th>JAHR</th>\n",
       "      <th>MONAT</th>\n",
       "      <th>WERT</th>\n",
       "    </tr>\n",
       "  </thead>\n",
       "  <tbody>\n",
       "    <tr>\n",
       "      <th>0</th>\n",
       "      <td>Alkoholunfälle</td>\n",
       "      <td>insgesamt</td>\n",
       "      <td>2020</td>\n",
       "      <td>Summe</td>\n",
       "      <td>430.0</td>\n",
       "    </tr>\n",
       "    <tr>\n",
       "      <th>1</th>\n",
       "      <td>Alkoholunfälle</td>\n",
       "      <td>insgesamt</td>\n",
       "      <td>2020</td>\n",
       "      <td>202001</td>\n",
       "      <td>28.0</td>\n",
       "    </tr>\n",
       "    <tr>\n",
       "      <th>2</th>\n",
       "      <td>Alkoholunfälle</td>\n",
       "      <td>insgesamt</td>\n",
       "      <td>2020</td>\n",
       "      <td>202002</td>\n",
       "      <td>40.0</td>\n",
       "    </tr>\n",
       "    <tr>\n",
       "      <th>3</th>\n",
       "      <td>Alkoholunfälle</td>\n",
       "      <td>insgesamt</td>\n",
       "      <td>2020</td>\n",
       "      <td>202003</td>\n",
       "      <td>27.0</td>\n",
       "    </tr>\n",
       "    <tr>\n",
       "      <th>4</th>\n",
       "      <td>Alkoholunfälle</td>\n",
       "      <td>insgesamt</td>\n",
       "      <td>2020</td>\n",
       "      <td>202004</td>\n",
       "      <td>26.0</td>\n",
       "    </tr>\n",
       "  </tbody>\n",
       "</table>\n",
       "</div>"
      ],
      "text/plain": [
       "       MONATSZAHL AUSPRAEGUNG  JAHR   MONAT   WERT\n",
       "0  Alkoholunfälle   insgesamt  2020   Summe  430.0\n",
       "1  Alkoholunfälle   insgesamt  2020  202001   28.0\n",
       "2  Alkoholunfälle   insgesamt  2020  202002   40.0\n",
       "3  Alkoholunfälle   insgesamt  2020  202003   27.0\n",
       "4  Alkoholunfälle   insgesamt  2020  202004   26.0"
      ]
     },
     "execution_count": 12,
     "metadata": {},
     "output_type": "execute_result"
    }
   ],
   "source": [
    "# Filter for Category = \"Alkoholunfälle\" and Accident-type = \"insgesamt\"\n",
    "subset = data_filtered[(data_filtered['MONATSZAHL'] == 'Alkoholunfälle') & (data_filtered['AUSPRAEGUNG'] == 'insgesamt')]\n",
    "\n",
    "# Reset the index for easier handling\n",
    "subset = subset.reset_index(drop=True)\n",
    "\n",
    "# Display the filtered data\n",
    "subset.head()\n"
   ]
  },
  {
   "cell_type": "code",
   "execution_count": 13,
   "metadata": {},
   "outputs": [
    {
     "name": "stdout",
     "output_type": "stream",
     "text": [
      "<class 'pandas.core.frame.DataFrame'>\n",
      "RangeIndex: 272 entries, 0 to 271\n",
      "Data columns (total 5 columns):\n",
      " #   Column       Non-Null Count  Dtype  \n",
      "---  ------       --------------  -----  \n",
      " 0   MONATSZAHL   272 non-null    object \n",
      " 1   AUSPRAEGUNG  272 non-null    object \n",
      " 2   JAHR         272 non-null    int64  \n",
      " 3   MONAT        272 non-null    object \n",
      " 4   WERT         272 non-null    float64\n",
      "dtypes: float64(1), int64(1), object(3)\n",
      "memory usage: 10.8+ KB\n",
      "None\n"
     ]
    }
   ],
   "source": [
    "print(subset.info())"
   ]
  },
  {
   "cell_type": "code",
   "execution_count": 14,
   "metadata": {},
   "outputs": [],
   "source": [
    "# Separate rows with 'Summe' (annual totals)\n",
    "annual_data = subset[subset['MONAT'] == 'Summe']\n",
    "\n",
    "# Exclude these rows from the main dataset for monthly visualization\n",
    "monthly_data = subset[subset['MONAT'] != 'Summe']\n"
   ]
  },
  {
   "cell_type": "code",
   "execution_count": 15,
   "metadata": {},
   "outputs": [
    {
     "name": "stdout",
     "output_type": "stream",
     "text": [
      "       MONATSZAHL AUSPRAEGUNG  JAHR                MONAT  WERT\n",
      "1  Alkoholunfälle   insgesamt  2020  2020-01-01 00:00:00  28.0\n",
      "2  Alkoholunfälle   insgesamt  2020  2020-02-01 00:00:00  40.0\n",
      "3  Alkoholunfälle   insgesamt  2020  2020-03-01 00:00:00  27.0\n",
      "4  Alkoholunfälle   insgesamt  2020  2020-04-01 00:00:00  26.0\n",
      "5  Alkoholunfälle   insgesamt  2020  2020-05-01 00:00:00  40.0\n"
     ]
    }
   ],
   "source": [
    "# Use .loc to modify the 'MONAT' column\n",
    "monthly_data.loc[:, 'MONAT'] = pd.to_datetime(monthly_data['MONAT'], format='%Y%m')\n",
    "\n",
    "# Verify the conversion\n",
    "print(monthly_data.head())\n"
   ]
  },
  {
   "cell_type": "code",
   "execution_count": 16,
   "metadata": {},
   "outputs": [
    {
     "data": {
      "image/png": "[encoded data removed]",
      "text/plain": [
       "<Figure size 1000x600 with 1 Axes>"
      ]
     },
     "metadata": {},
     "output_type": "display_data"
    }
   ],
   "source": [
    "import matplotlib.pyplot as plt\n",
    "\n",
    "# Group by date and sum values (if needed)\n",
    "monthly_trends = monthly_data.groupby('MONAT')['WERT'].sum()\n",
    "\n",
    "# Plot monthly trends\n",
    "plt.figure(figsize=(10, 6))\n",
    "plt.plot(monthly_trends.index, monthly_trends.values, marker='o', label='Monthly Accidents')\n",
    "plt.title('Monthly Accident Trends')\n",
    "plt.xlabel('Date')\n",
    "plt.ylabel('Number of Accidents')\n",
    "plt.grid(True)\n",
    "plt.legend()\n",
    "plt.show()\n"
   ]
  },
  {
   "cell_type": "code",
   "execution_count": 17,
   "metadata": {},
   "outputs": [
    {
     "data": {
      "image/png": "[encoded data removed]",
      "text/plain": [
       "<Figure size 800x500 with 1 Axes>"
      ]
     },
     "metadata": {},
     "output_type": "display_data"
    }
   ],
   "source": [
    "# Plot annual totals\n",
    "plt.figure(figsize=(8, 5))\n",
    "plt.bar(annual_data['JAHR'], annual_data['WERT'], color='orange', label='Annual Totals')\n",
    "plt.title('Annual Accident Totals')\n",
    "plt.xlabel('Year')\n",
    "plt.ylabel('Number of Accidents')\n",
    "plt.grid(axis='y')\n",
    "plt.legend()\n",
    "plt.show()\n"
   ]
  },
  {
   "cell_type": "code",
   "execution_count": 19,
   "metadata": {},
   "outputs": [],
   "source": [
    "# Save filtered_data to CSV (or pickle)\n",
    "subset.to_csv('subset.csv', index=True)\n",
    "# Alternatively, save it as a pickle file for faster loading and preserving types\n",
    "subset.to_pickle('subset.pkl')\n"
   ]
  },
  {
   "cell_type": "markdown",
   "metadata": {},
   "source": [
    "Creation of data.csv for testing purpose (2021)"
   ]
  },
  {
   "cell_type": "code",
   "execution_count": 3,
   "metadata": {},
   "outputs": [
    {
     "data": {
      "text/html": [
       "<div>\n",
       "<style scoped>\n",
       "    .dataframe tbody tr th:only-of-type {\n",
       "        vertical-align: middle;\n",
       "    }\n",
       "\n",
       "    .dataframe tbody tr th {\n",
       "        vertical-align: top;\n",
       "    }\n",
       "\n",
       "    .dataframe thead th {\n",
       "        text-align: right;\n",
       "    }\n",
       "</style>\n",
       "<table border=\"1\" class=\"dataframe\">\n",
       "  <thead>\n",
       "    <tr style=\"text-align: right;\">\n",
       "      <th></th>\n",
       "      <th>MONATSZAHL</th>\n",
       "      <th>AUSPRAEGUNG</th>\n",
       "      <th>JAHR</th>\n",
       "      <th>MONAT</th>\n",
       "      <th>WERT</th>\n",
       "    </tr>\n",
       "  </thead>\n",
       "  <tbody>\n",
       "    <tr>\n",
       "      <th>0</th>\n",
       "      <td>Alkoholunfälle</td>\n",
       "      <td>insgesamt</td>\n",
       "      <td>2024</td>\n",
       "      <td>202401</td>\n",
       "      <td>NaN</td>\n",
       "    </tr>\n",
       "    <tr>\n",
       "      <th>1</th>\n",
       "      <td>Alkoholunfälle</td>\n",
       "      <td>insgesamt</td>\n",
       "      <td>2024</td>\n",
       "      <td>202402</td>\n",
       "      <td>NaN</td>\n",
       "    </tr>\n",
       "    <tr>\n",
       "      <th>2</th>\n",
       "      <td>Alkoholunfälle</td>\n",
       "      <td>insgesamt</td>\n",
       "      <td>2024</td>\n",
       "      <td>202403</td>\n",
       "      <td>NaN</td>\n",
       "    </tr>\n",
       "    <tr>\n",
       "      <th>3</th>\n",
       "      <td>Alkoholunfälle</td>\n",
       "      <td>insgesamt</td>\n",
       "      <td>2024</td>\n",
       "      <td>202404</td>\n",
       "      <td>NaN</td>\n",
       "    </tr>\n",
       "    <tr>\n",
       "      <th>4</th>\n",
       "      <td>Alkoholunfälle</td>\n",
       "      <td>insgesamt</td>\n",
       "      <td>2024</td>\n",
       "      <td>202405</td>\n",
       "      <td>NaN</td>\n",
       "    </tr>\n",
       "  </tbody>\n",
       "</table>\n",
       "</div>"
      ],
      "text/plain": [
       "       MONATSZAHL AUSPRAEGUNG  JAHR   MONAT  WERT\n",
       "0  Alkoholunfälle   insgesamt  2024  202401   NaN\n",
       "1  Alkoholunfälle   insgesamt  2024  202402   NaN\n",
       "2  Alkoholunfälle   insgesamt  2024  202403   NaN\n",
       "3  Alkoholunfälle   insgesamt  2024  202404   NaN\n",
       "4  Alkoholunfälle   insgesamt  2024  202405   NaN"
      ]
     },
     "execution_count": 3,
     "metadata": {},
     "output_type": "execute_result"
    }
   ],
   "source": [
    "# Keep only the first 5 columns\n",
    "data_filtered = data.drop(data.columns[5:], axis=1)\n",
    "\n",
    "# Display the remaining columns to verify\n",
    "data_filtered.head()\n"
   ]
  },
  {
   "cell_type": "code",
   "execution_count": 8,
   "metadata": {},
   "outputs": [
    {
     "name": "stdout",
     "output_type": "stream",
     "text": [
      "[2021]\n"
     ]
    }
   ],
   "source": [
    "# Ensure column names match the dataset\n",
    "# If column names have unexpected spaces or characters, clean them\n",
    "data_filtered.columns = data_filtered.columns.str.strip()\n",
    "\n",
    "# Drop rows with Year > 2020\n",
    "data_filtered = data_filtered[data_filtered['JAHR'] == 2021]\n",
    "\n",
    "# Verify the filtering\n",
    "print(data_filtered['JAHR'].unique())\n"
   ]
  },
  {
   "cell_type": "code",
   "execution_count": 9,
   "metadata": {},
   "outputs": [
    {
     "data": {
      "text/html": [
       "<div>\n",
       "<style scoped>\n",
       "    .dataframe tbody tr th:only-of-type {\n",
       "        vertical-align: middle;\n",
       "    }\n",
       "\n",
       "    .dataframe tbody tr th {\n",
       "        vertical-align: top;\n",
       "    }\n",
       "\n",
       "    .dataframe thead th {\n",
       "        text-align: right;\n",
       "    }\n",
       "</style>\n",
       "<table border=\"1\" class=\"dataframe\">\n",
       "  <thead>\n",
       "    <tr style=\"text-align: right;\">\n",
       "      <th></th>\n",
       "      <th>MONATSZAHL</th>\n",
       "      <th>AUSPRAEGUNG</th>\n",
       "      <th>JAHR</th>\n",
       "      <th>MONAT</th>\n",
       "      <th>WERT</th>\n",
       "    </tr>\n",
       "  </thead>\n",
       "  <tbody>\n",
       "    <tr>\n",
       "      <th>0</th>\n",
       "      <td>Alkoholunfälle</td>\n",
       "      <td>insgesamt</td>\n",
       "      <td>2021</td>\n",
       "      <td>Summe</td>\n",
       "      <td>383.0</td>\n",
       "    </tr>\n",
       "    <tr>\n",
       "      <th>1</th>\n",
       "      <td>Alkoholunfälle</td>\n",
       "      <td>insgesamt</td>\n",
       "      <td>2021</td>\n",
       "      <td>202101</td>\n",
       "      <td>16.0</td>\n",
       "    </tr>\n",
       "    <tr>\n",
       "      <th>2</th>\n",
       "      <td>Alkoholunfälle</td>\n",
       "      <td>insgesamt</td>\n",
       "      <td>2021</td>\n",
       "      <td>202102</td>\n",
       "      <td>14.0</td>\n",
       "    </tr>\n",
       "    <tr>\n",
       "      <th>3</th>\n",
       "      <td>Alkoholunfälle</td>\n",
       "      <td>insgesamt</td>\n",
       "      <td>2021</td>\n",
       "      <td>202103</td>\n",
       "      <td>24.0</td>\n",
       "    </tr>\n",
       "    <tr>\n",
       "      <th>4</th>\n",
       "      <td>Alkoholunfälle</td>\n",
       "      <td>insgesamt</td>\n",
       "      <td>2021</td>\n",
       "      <td>202104</td>\n",
       "      <td>16.0</td>\n",
       "    </tr>\n",
       "  </tbody>\n",
       "</table>\n",
       "</div>"
      ],
      "text/plain": [
       "       MONATSZAHL AUSPRAEGUNG  JAHR   MONAT   WERT\n",
       "0  Alkoholunfälle   insgesamt  2021   Summe  383.0\n",
       "1  Alkoholunfälle   insgesamt  2021  202101   16.0\n",
       "2  Alkoholunfälle   insgesamt  2021  202102   14.0\n",
       "3  Alkoholunfälle   insgesamt  2021  202103   24.0\n",
       "4  Alkoholunfälle   insgesamt  2021  202104   16.0"
      ]
     },
     "execution_count": 9,
     "metadata": {},
     "output_type": "execute_result"
    }
   ],
   "source": [
    "# Filter for Category = \"Alkoholunfälle\" and Accident-type = \"insgesamt\"\n",
    "data = data_filtered[(data_filtered['MONATSZAHL'] == 'Alkoholunfälle') & (data_filtered['AUSPRAEGUNG'] == 'insgesamt')]\n",
    "\n",
    "# Reset the index for easier handling\n",
    "data = data.reset_index(drop=True)\n",
    "\n",
    "# Display the filtered data\n",
    "data.head()\n"
   ]
  },
  {
   "cell_type": "code",
   "execution_count": 10,
   "metadata": {},
   "outputs": [],
   "source": [
    "# Save filtered_data to CSV (or pickle)\n",
    "data.to_csv('data.csv', index=True)\n",
    "# Alternatively, save it as a pickle file for faster loading and preserving types\n",
    "data.to_pickle('data.pkl')\n"
   ]
  },
  {
   "cell_type": "code",
   "execution_count": 11,
   "metadata": {},
   "outputs": [
    {
     "name": "stdout",
     "output_type": "stream",
     "text": [
      "<class 'pandas.core.frame.DataFrame'>\n",
      "RangeIndex: 13 entries, 0 to 12\n",
      "Data columns (total 5 columns):\n",
      " #   Column       Non-Null Count  Dtype  \n",
      "---  ------       --------------  -----  \n",
      " 0   MONATSZAHL   13 non-null     object \n",
      " 1   AUSPRAEGUNG  13 non-null     object \n",
      " 2   JAHR         13 non-null     int64  \n",
      " 3   MONAT        13 non-null     object \n",
      " 4   WERT         13 non-null     float64\n",
      "dtypes: float64(1), int64(1), object(3)\n",
      "memory usage: 648.0+ bytes\n"
     ]
    }
   ],
   "source": [
    "data.info()\n"
   ]
  },
  {
   "cell_type": "code",
   "execution_count": null,
   "metadata": {},
   "outputs": [],
   "source": []
  }
 ],
 "metadata": {
  "kernelspec": {
   "display_name": "Python 3",
   "language": "python",
   "name": "python3"
  },
  "language_info": {
   "codemirror_mode": {
    "name": "ipython",
    "version": 3
   },
   "file_extension": ".py",
   "mimetype": "text/x-python",
   "name": "python",
   "nbconvert_exporter": "python",
   "pygments_lexer": "ipython3",
   "version": "3.8.2"
  }
 },
 "nbformat": 4,
 "nbformat_minor": 2
}
